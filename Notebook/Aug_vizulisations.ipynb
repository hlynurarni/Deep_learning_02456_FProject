{
 "cells": [
  {
   "cell_type": "markdown",
   "metadata": {
    "id": "K1_WKdcrI6w3"
   },
   "source": [
    "# Getting started with PPO and ProcGen"
   ]
  },
  {
   "cell_type": "markdown",
   "metadata": {
    "id": "z7LP1JU3I-d4"
   },
   "source": [
    "Here's a bit of code that should help you get started on your projects.\n",
    "\n",
    "The cell below installs `procgen` and downloads a small `utils.py` script that contains some utility functions. You may want to inspect the file for more details."
   ]
  },
  {
   "cell_type": "code",
   "execution_count": null,
   "metadata": {
    "colab": {
     "base_uri": "https://localhost:8080/"
    },
    "id": "KdpZ4lmFHtD8",
    "outputId": "fe46c25b-92eb-4919-83a2-1990a0686855"
   },
   "outputs": [
    {
     "name": "stdout",
     "output_type": "stream",
     "text": [
      "Requirement already satisfied: procgen in /usr/local/lib/python3.6/dist-packages (0.10.4)\n",
      "Requirement already satisfied: gym3<1.0.0,>=0.3.3 in /usr/local/lib/python3.6/dist-packages (from procgen) (0.3.3)\n",
      "Requirement already satisfied: gym<1.0.0,>=0.15.0 in /usr/local/lib/python3.6/dist-packages (from procgen) (0.17.3)\n",
      "Requirement already satisfied: filelock<4.0.0,>=3.0.0 in /usr/local/lib/python3.6/dist-packages (from procgen) (3.0.12)\n",
      "Requirement already satisfied: numpy<2.0.0,>=1.17.0 in /usr/local/lib/python3.6/dist-packages (from procgen) (1.18.5)\n",
      "Requirement already satisfied: cffi<2.0.0,>=1.13.0 in /usr/local/lib/python3.6/dist-packages (from gym3<1.0.0,>=0.3.3->procgen) (1.14.3)\n",
      "Requirement already satisfied: moderngl<6.0.0,>=5.5.4 in /usr/local/lib/python3.6/dist-packages (from gym3<1.0.0,>=0.3.3->procgen) (5.6.2)\n",
      "Requirement already satisfied: imageio-ffmpeg<0.4.0,>=0.3.0 in /usr/local/lib/python3.6/dist-packages (from gym3<1.0.0,>=0.3.3->procgen) (0.3.0)\n",
      "Requirement already satisfied: glfw<2.0.0,>=1.8.6 in /usr/local/lib/python3.6/dist-packages (from gym3<1.0.0,>=0.3.3->procgen) (1.12.0)\n",
      "Requirement already satisfied: imageio<3.0.0,>=2.6.0 in /usr/local/lib/python3.6/dist-packages (from gym3<1.0.0,>=0.3.3->procgen) (2.9.0)\n",
      "Requirement already satisfied: cloudpickle<1.7.0,>=1.2.0 in /usr/local/lib/python3.6/dist-packages (from gym<1.0.0,>=0.15.0->procgen) (1.3.0)\n",
      "Requirement already satisfied: pyglet<=1.5.0,>=1.4.0 in /usr/local/lib/python3.6/dist-packages (from gym<1.0.0,>=0.15.0->procgen) (1.5.0)\n",
      "Requirement already satisfied: scipy in /usr/local/lib/python3.6/dist-packages (from gym<1.0.0,>=0.15.0->procgen) (1.4.1)\n",
      "Requirement already satisfied: pycparser in /usr/local/lib/python3.6/dist-packages (from cffi<2.0.0,>=1.13.0->gym3<1.0.0,>=0.3.3->procgen) (2.20)\n",
      "Requirement already satisfied: glcontext<3,>=2 in /usr/local/lib/python3.6/dist-packages (from moderngl<6.0.0,>=5.5.4->gym3<1.0.0,>=0.3.3->procgen) (2.2.0)\n",
      "Requirement already satisfied: pillow in /usr/local/lib/python3.6/dist-packages (from imageio<3.0.0,>=2.6.0->gym3<1.0.0,>=0.3.3->procgen) (7.0.0)\n",
      "Requirement already satisfied: future in /usr/local/lib/python3.6/dist-packages (from pyglet<=1.5.0,>=1.4.0->gym<1.0.0,>=0.15.0->procgen) (0.16.0)\n",
      "--2020-12-08 12:14:00--  https://raw.githubusercontent.com/nicklashansen/ppo-procgen-utils/main/utils.py\n",
      "Resolving raw.githubusercontent.com (raw.githubusercontent.com)... 151.101.0.133, 151.101.64.133, 151.101.128.133, ...\n",
      "Connecting to raw.githubusercontent.com (raw.githubusercontent.com)|151.101.0.133|:443... connected.\n",
      "HTTP request sent, awaiting response... 200 OK\n",
      "Length: 14807 (14K) [text/plain]\n",
      "Saving to: ‘utils.py.2’\n",
      "\n",
      "utils.py.2          100%[===================>]  14.46K  --.-KB/s    in 0s      \n",
      "\n",
      "2020-12-08 12:14:00 (116 MB/s) - ‘utils.py.2’ saved [14807/14807]\n",
      "\n"
     ]
    }
   ],
   "source": [
    "!pip install procgen\n",
    "!wget https://raw.githubusercontent.com/nicklashansen/ppo-procgen-utils/main/utils.py\n",
    "# !wget https://raw.githubusercontent.com/pokaxpoka/rad_procgen/346fb852fa16e739601ca998eebd1d56b95aa2e8/train_procgen/data_augs.py\n",
    "# !wget https://raw.githubusercontent.com/hlynurarni/Deep_learning_02456_FProject/master/augmentation_scripts/TransformLayer.py?token=ACR4O3BQOPEZ5B7DO6MQUJ272TFA2"
   ]
  },
  {
   "cell_type": "markdown",
   "metadata": {
    "id": "Bn2rkllGJPtZ"
   },
   "source": [
    "Hyperparameters. These values should be a good starting point. You can modify them later once you have a working implementation.\n"
   ]
  },
  {
   "cell_type": "code",
   "execution_count": null,
   "metadata": {
    "id": "8Z8P1ehENCwc"
   },
   "outputs": [],
   "source": [
    "# Hyperparameters\n",
    "total_steps = 1e4 # 8e6\n",
    "num_envs = 32 # 32\n",
    "num_levels = 100 # 10\n",
    "num_steps = 256 # 256\n",
    "num_epochs = 3 # 3\n",
    "batch_size = 512 # 512\n",
    "eps = .2 # .2\n",
    "grad_eps = .5 # .5\n",
    "value_coef = .5 # .5\n",
    "entropy_coef = .01 # .01"
   ]
  },
  {
   "cell_type": "code",
   "execution_count": null,
   "metadata": {
    "colab": {
     "base_uri": "https://localhost:8080/"
    },
    "id": "z3Ast46jAThS",
    "outputId": "0a67359c-7f82-42f5-de2d-e5cac22d684f"
   },
   "outputs": [
    {
     "name": "stdout",
     "output_type": "stream",
     "text": [
      "Mounted at /content/gdrive\n"
     ]
    }
   ],
   "source": [
    "from google.colab import drive\n",
    "drive.mount('/content/gdrive')"
   ]
  },
  {
   "cell_type": "markdown",
   "metadata": {
    "id": "JxRWy_T9JY4M"
   },
   "source": [
    "Network definitions. We have defined a policy network for you in advance. It uses the popular `NatureDQN` encoder architecture (see below), while policy and value functions are linear projections from the encodings. There is plenty of opportunity to experiment with architectures, so feel free to do that! Perhaps implement the `Impala` encoder from [this paper](https://arxiv.org/pdf/1802.01561.pdf) (perhaps minus the LSTM)."
   ]
  },
  {
   "cell_type": "code",
   "execution_count": null,
   "metadata": {
    "id": "hiFZgIv3e7Yp"
   },
   "outputs": [],
   "source": [
    "# Add the necessary libraries\n",
    "import torch\n",
    "import torch.nn as nn\n",
    "import torch.nn.functional as F\n",
    "import numpy as np\n",
    "import matplotlib.pyplot as plt\n",
    "from utils import make_env, Storage, orthogonal_init\n",
    "from time import time"
   ]
  },
  {
   "cell_type": "code",
   "execution_count": null,
   "metadata": {
    "id": "tUGeLtphKyUg"
   },
   "outputs": [],
   "source": [
    "def imshow(img):\n",
    "    \"\"\" show an image \"\"\"\n",
    "    plt.figure(figsize=(10,8))\n",
    "    plt.imshow(np.transpose(img, (1, 2, 0)))"
   ]
  },
  {
   "cell_type": "markdown",
   "metadata": {
    "id": "bU_da49WWEwd"
   },
   "source": [
    "# Grayscaling"
   ]
  },
  {
   "cell_type": "code",
   "execution_count": null,
   "metadata": {
    "id": "rgV9bnQzjMkl"
   },
   "outputs": [],
   "source": [
    "# Randomly grascale an envorinment observation space, the p value can be adjusted for the probability of a figure being grascaled\n",
    "class RandGray(object):\n",
    "    def __init__(self,  \n",
    "                 batch_size, \n",
    "                 p_rand=0.5,\n",
    "                 *_args, \n",
    "                 **_kwargs):\n",
    "        \n",
    "        self.p_gray = p_rand\n",
    "        self.batch_size = batch_size\n",
    "        self.random_inds = np.random.choice([True, False], \n",
    "                                            batch_size, \n",
    "                                            p=[self.p_gray, 1 - self.p_gray])\n",
    "        \n",
    "    def grayscale(self, imgs):\n",
    "        # imgs: b x h x w x c\n",
    "        # the format is incorrect\n",
    "        b, c, h, w = imgs.shape # format changed, hlynur\n",
    "        imgs = imgs[:, 0, :, :] * 0.2989 + imgs[:, 1, :, :] * 0.587 + imgs[:, 2, :, :] * 0.114 \n",
    "        imgs = np.tile(imgs.reshape(b,-1,h,w), (1, 3, 1, 1)) # .astype(np.uint8)\n",
    "        return imgs\n",
    "\n",
    "    def do_augmentation(self, images):\n",
    "        # images: [B, C, H, W]\n",
    "        bs, channels, h, w = images.shape\n",
    "        # print(images.shape)\n",
    "        if self.random_inds.sum() > 0:\n",
    "            # print(self.random_inds)\n",
    "            # print(sum(self.random_inds))\n",
    "            # print(images[self.random_inds].shape)\n",
    "            images[self.random_inds] =  self.grayscale(images[self.random_inds])\n",
    "\n",
    "        return images\n",
    "    \n",
    "    def change_randomization_params(self, index_):\n",
    "        self.random_inds[index_] = np.random.choice([True, False], 1, \n",
    "                                                    p=[self.p_gray, 1 - self.p_gray])\n",
    "        \n",
    "    def change_randomization_params_all(self):\n",
    "        self.random_inds = np.random.choice([True, False], \n",
    "                                            self.batch_size, \n",
    "                                            p=[self.p_gray, 1 - self.p_gray])\n",
    "        \n",
    "    def print_parms(self):\n",
    "        print(self.random_inds)\n"
   ]
  },
  {
   "cell_type": "code",
   "execution_count": null,
   "metadata": {
    "id": "DnqF9bIjacRC"
   },
   "outputs": [],
   "source": [
    "games = ['coinrun','dodgeball']"
   ]
  },
  {
   "cell_type": "code",
   "execution_count": null,
   "metadata": {
    "colab": {
     "base_uri": "https://localhost:8080/",
     "height": 805
    },
    "id": "ba24GwveusJs",
    "outputId": "8b8353a1-1f9c-45b2-f0e5-7d0fc59f25c1"
   },
   "outputs": [
    {
     "data": {
      "image/png": "[encoded data removed]",
      "text/plain": [
       "<Figure size 1080x1080 with 2 Axes>"
      ]
     },
     "metadata": {
      "needs_background": "light",
      "tags": []
     },
     "output_type": "display_data"
    },
    {
     "data": {
      "image/png": "[encoded data removed]",
      "text/plain": [
       "<Figure size 1080x1080 with 2 Axes>"
      ]
     },
     "metadata": {
      "needs_background": "light",
      "tags": []
     },
     "output_type": "display_data"
    }
   ],
   "source": [
    "# How to use the RandGray class\n",
    "path = '/content/gdrive/MyDrive/Deep Learning Project 2020/data/aug_figures/'\n",
    "for game in games:\n",
    "    env = make_env(num_envs, num_levels=num_levels, env_name=game)\n",
    "    nenv = env.num_envs # added\n",
    "    obs = np.zeros((nenv,) + env.observation_space.shape, dtype=env.observation_space.dtype.name)\n",
    "    obs[:] = env.reset()\n",
    "    sample = obs[0,:,:,:]\n",
    "\n",
    "    #  Plot the original observation\n",
    "    plt.figure(figsize=(15,15))\n",
    "    plt.subplot(1, 2, 1)\n",
    "    plt.axis('off')\n",
    "    plt.imshow(np.transpose(sample, (1, 2, 0)));\n",
    "\n",
    "\n",
    "    # Do the augmentation\n",
    "    augs_funcs = RandGray(batch_size=num_envs, p_rand=1) # added\n",
    "    obs = augs_funcs.do_augmentation(obs)\n",
    "    sample = obs[0,:,:,:]\n",
    "\n",
    "    # Plot the augmented\n",
    "    plt.subplot(1, 2, 2)\n",
    "    plt.axis('off')\n",
    "    plt.imshow(np.transpose(sample, (1, 2, 0)));\n",
    "    # plt.show()\n",
    "    plt.savefig(f'{path}grayscale_{game}.png')"
   ]
  },
  {
   "cell_type": "markdown",
   "metadata": {
    "id": "LPDm-iFuWS-G"
   },
   "source": [
    "# Random Color Jitter"
   ]
  },
  {
   "cell_type": "code",
   "execution_count": null,
   "metadata": {
    "id": "FyktnzxNYLWs"
   },
   "outputs": [],
   "source": [
    "#Trying to adjust the size of the random sample we are changing\n",
    "# taken from: https://github.com/MishaLaskin/rad/blob/1246bfd6e716669126e12c1f02f393801e1692c1/TransformLayer.py#L87\n",
    "\n",
    "# Repository has to be public to be able to import functions from it\n",
    "\n",
    "import torch\n",
    "import torch.nn as nn\n",
    "import torch.nn.functional as F\n",
    "import math\n",
    "import numpy as np\n",
    "import numbers\n",
    "import random\n",
    "import time\n",
    "\n",
    "\n",
    "def rgb2hsv(rgb, eps=1e-8):\n",
    "    # Reference: https://www.rapidtables.com/convert/color/rgb-to-hsv.html\n",
    "    # Reference: https://github.com/scikit-image/scikit-image/blob/master/skimage/color/colorconv.py#L287\n",
    "\n",
    "    _device = rgb.device\n",
    "    r, g, b = rgb[:, 0, :, :], rgb[:, 1, :, :], rgb[:, 2, :, :]\n",
    "\n",
    "    Cmax = rgb.max(1)[0]\n",
    "    Cmin = rgb.min(1)[0]\n",
    "    delta = Cmax - Cmin\n",
    "\n",
    "    hue = torch.zeros((rgb.shape[0], rgb.shape[2], rgb.shape[3])).to(_device)\n",
    "    hue[Cmax== r] = (((g - b)/(delta + eps)) % 6)[Cmax == r]\n",
    "    hue[Cmax == g] = ((b - r)/(delta + eps) + 2)[Cmax == g]\n",
    "    hue[Cmax == b] = ((r - g)/(delta + eps) + 4)[Cmax == b]\n",
    "    hue[Cmax == 0] = 0.0\n",
    "    hue = hue / 6. # making hue range as [0, 1.0)\n",
    "    hue = hue.unsqueeze(dim=1)\n",
    "\n",
    "    saturation = (delta) / (Cmax + eps)\n",
    "    saturation[Cmax == 0.] = 0.\n",
    "    saturation = saturation.to(_device)\n",
    "    saturation = saturation.unsqueeze(dim=1)\n",
    "\n",
    "    value = Cmax\n",
    "    value = value.to(_device)\n",
    "    value = value.unsqueeze(dim=1)\n",
    "\n",
    "    return torch.cat((hue, saturation, value), dim=1)#.type(torch.FloatTensor).to(_device)\n",
    "    # return hue, saturation, value\n",
    "\n",
    "def hsv2rgb(hsv):\n",
    "    # Reference: https://www.rapidtables.com/convert/color/hsv-to-rgb.html\n",
    "    # Reference: https://github.com/scikit-image/scikit-image/blob/master/skimage/color/colorconv.py#L287\n",
    "\n",
    "    _device = hsv.device\n",
    "\n",
    "    hsv = torch.clamp(hsv, 0, 1)\n",
    "    hue = hsv[:, 0, :, :] * 360.\n",
    "    saturation = hsv[:, 1, :, :]\n",
    "    value = hsv[:, 2, :, :]\n",
    "\n",
    "    c = value * saturation\n",
    "    x = - c * (torch.abs((hue / 60.) % 2 - 1) - 1)\n",
    "    m = (value - c).unsqueeze(dim=1)\n",
    "\n",
    "    rgb_prime = torch.zeros_like(hsv).to(_device)\n",
    "\n",
    "    inds = (hue < 60) * (hue >= 0)\n",
    "    rgb_prime[:, 0, :, :][inds] = c[inds]\n",
    "    rgb_prime[:, 1, :, :][inds] = x[inds]\n",
    "\n",
    "    inds = (hue < 120) * (hue >= 60)\n",
    "    rgb_prime[:, 0, :, :][inds] = x[inds]\n",
    "    rgb_prime[:, 1, :, :][inds] = c[inds]\n",
    "\n",
    "    inds = (hue < 180) * (hue >= 120)\n",
    "    rgb_prime[:, 1, :, :][inds] = c[inds]\n",
    "    rgb_prime[:, 2, :, :][inds] = x[inds]\n",
    "\n",
    "    inds = (hue < 240) * (hue >= 180)\n",
    "    rgb_prime[:, 1, :, :][inds] = x[inds]\n",
    "    rgb_prime[:, 2, :, :][inds] = c[inds]\n",
    "\n",
    "    inds = (hue < 300) * (hue >= 240)\n",
    "    rgb_prime[:, 2, :, :][inds] = c[inds]\n",
    "    rgb_prime[:, 0, :, :][inds] = x[inds]\n",
    "\n",
    "    inds = (hue < 360) * (hue >= 300)\n",
    "    rgb_prime[:, 2, :, :][inds] = x[inds]\n",
    "    rgb_prime[:, 0, :, :][inds] = c[inds]\n",
    "\n",
    "    rgb = rgb_prime + torch.cat((m, m, m), dim=1)\n",
    "    rgb = rgb.to(_device)\n",
    "\n",
    "    return torch.clamp(rgb, 0, 1)\n",
    "\n",
    "class ColorJitterLayer(nn.Module):\n",
    "    def __init__(self, brightness=0, contrast=0, saturation=0, hue=0, p=0, batch_size=128, stack_size=3):\n",
    "        super(ColorJitterLayer, self).__init__()\n",
    "        self.brightness = self._check_input(brightness, 'brightness')\n",
    "        self.contrast = self._check_input(contrast, 'contrast')\n",
    "        self.saturation = self._check_input(saturation, 'saturation')\n",
    "        self.hue = self._check_input(hue, 'hue', center=0, bound=(-0.5, 0.5),\n",
    "                                     clip_first_on_zero=False)\n",
    "        self.prob = p\n",
    "        self.batch_size = batch_size\n",
    "        self.stack_size = stack_size\n",
    "        \n",
    "    def _check_input(self, value, name, center=1, bound=(0, float('inf')), clip_first_on_zero=True):\n",
    "        if isinstance(value, numbers.Number):\n",
    "            if value < 0:\n",
    "                raise ValueError(\"If {} is a single number, it must be non negative.\".format(name))\n",
    "            value = [center - value, center + value]\n",
    "            if clip_first_on_zero:\n",
    "                value[0] = max(value[0], 0)\n",
    "        elif isinstance(value, (tuple, list)) and len(value) == 2:\n",
    "            if not bound[0] <= value[0] <= value[1] <= bound[1]:\n",
    "                raise ValueError(\"{} values should be between {}\".format(name, bound))\n",
    "        else:\n",
    "            raise TypeError(\"{} should be a single number or a list/tuple with lenght 2.\".format(name))\n",
    "        # if value is 0 or (1., 1.) for brightness/contrast/saturation\n",
    "        # or (0., 0.) for hue, do nothing\n",
    "        if value[0] == value[1] == center:\n",
    "            value = None\n",
    "        return value\n",
    "    \n",
    "    def adjust_contrast(self, x):\n",
    "        \"\"\"\n",
    "            Args:\n",
    "                x: torch tensor img (rgb type)\n",
    "            Factor: torch tensor with same length as x\n",
    "                    0 gives gray solid image, 1 gives original image,\n",
    "            Returns:\n",
    "                torch tensor image: Brightness adjusted\n",
    "        \"\"\"\n",
    "        _device = x.device\n",
    "        factor = torch.empty(len(x), device=_device).uniform_(*self.contrast)\n",
    "        factor = factor.reshape(-1,1).repeat(1, self.stack_size).reshape(-1)\n",
    "        means = torch.mean(x, dim=(2, 3), keepdim=True)\n",
    "        return torch.clamp((x - means)\n",
    "                           * factor.view(len(x), 1, 1, 1) + means, 0, 1)\n",
    "    \n",
    "    def adjust_hue(self, x):\n",
    "        _device = x.device\n",
    "        factor = torch.empty(len(x), device=_device).uniform_(*self.hue)\n",
    "        factor = factor.reshape(-1,1).repeat(1, self.stack_size).reshape(-1)\n",
    "        h = x[:, 0, :, :]\n",
    "        h += (factor.view(len(x), 1, 1) * 255. / 360.)\n",
    "        h = (h % 1)\n",
    "        x[:, 0, :, :] = h\n",
    "        return x\n",
    "    \n",
    "    def adjust_brightness(self, x):\n",
    "        \"\"\"\n",
    "            Args:\n",
    "                x: torch tensor img (hsv type)\n",
    "            Factor:\n",
    "                torch tensor with same length as x\n",
    "                0 gives black image, 1 gives original image,\n",
    "                2 gives the brightness factor of 2.\n",
    "            Returns:\n",
    "                torch tensor image: Brightness adjusted\n",
    "        \"\"\"\n",
    "        _device = x.device\n",
    "        factor = torch.empty(len(x), device=_device).uniform_(*self.brightness)\n",
    "        factor = factor.reshape(-1,1).repeat(1, self.stack_size).reshape(-1)\n",
    "        x[:, 2, :, :] = torch.clamp(x[:, 2, :, :]\n",
    "                                     * factor.view(len(x), 1, 1), 0, 1)\n",
    "        return torch.clamp(x, 0, 1)\n",
    "    \n",
    "    def adjust_saturate(self, x):\n",
    "        \"\"\"\n",
    "            Args:\n",
    "                x: torch tensor img (hsv type)\n",
    "            Factor:\n",
    "                torch tensor with same length as x\n",
    "                0 gives black image and white, 1 gives original image,\n",
    "                2 gives the brightness factor of 2.\n",
    "            Returns:\n",
    "                torch tensor image: Brightness adjusted\n",
    "        \"\"\"\n",
    "        _device = x.device\n",
    "        factor = torch.empty(len(x), device=_device).uniform_(*self.saturation)\n",
    "        factor = factor.reshape(-1,1).repeat(1, self.stack_size).reshape(-1)\n",
    "        x[:, 1, :, :] = torch.clamp(x[:, 1, :, :]\n",
    "                                    * factor.view(len(x), 1, 1), 0, 1)\n",
    "        return torch.clamp(x, 0, 1)\n",
    "    \n",
    "    def transform(self, inputs):\n",
    "        hsv_transform_list = [rgb2hsv, self.adjust_brightness,\n",
    "                              self.adjust_hue, self.adjust_saturate,\n",
    "                              hsv2rgb]\n",
    "        rgb_transform_list = [self.adjust_contrast]\n",
    "        # Shuffle transform\n",
    "        if random.uniform(0,1) >= 0.5:\n",
    "            transform_list = rgb_transform_list + hsv_transform_list\n",
    "        else:\n",
    "            transform_list = hsv_transform_list + rgb_transform_list\n",
    "        for t in transform_list:\n",
    "            inputs = t(inputs)\n",
    "        return inputs\n",
    "    \n",
    "    def forward(self, inputs):\n",
    "        _device = inputs.device\n",
    "        random_inds = np.random.choice(\n",
    "            [True, False], len(inputs), p=[self.prob, 1 - self.prob])\n",
    "        inds = torch.tensor(random_inds).to(_device)\n",
    "        if random_inds.sum() > 0:\n",
    "            inputs[inds] = self.transform(inputs[inds])\n",
    "        return inputs"
   ]
  },
  {
   "cell_type": "code",
   "execution_count": null,
   "metadata": {
    "id": "E9J3X4Ua7IG-"
   },
   "outputs": [],
   "source": [
    "# from TransformLayer.py import ColorJitterLayer\n",
    "path = '/content/gdrive/MyDrive/Deep Learning Project 2020/data/aug_figures/'\n",
    "def random_color_jitter(imgs,p=0.5):\n",
    "    \"\"\"\n",
    "        imgs,p=0.5\n",
    "        inputs np array outputs tensor, HLYNUR: this is wrong we input a tensor\n",
    "    \"\"\"\n",
    "    brightness = round(random.uniform(0.1, 1.0),4)\n",
    "    contrast = round(random.uniform(0.1, 1.0),4)\n",
    "    saturation = round(random.uniform(0.1, 1.0),4)\n",
    "    hue = round(random.uniform(0.1, 1.0),4)\n",
    "    test = random.randint(1,1000)\n",
    "    # print(f'brightness:{brightness}, contrast:{contrast}, saturation:{saturation}, hue:{hue}, test:{test}')\n",
    "\n",
    "    b,c,h,w = imgs.shape\n",
    "    imgs = imgs.view(-1,3,h,w)\n",
    "    transform_module = nn.Sequential(ColorJitterLayer(brightness=brightness, \n",
    "                                                contrast=contrast,\n",
    "                                                saturation=saturation,\n",
    "                                                hue=hue,\n",
    "                                                p=p,\n",
    "                                                batch_size=num_envs,\n",
    "                                                stack_size=1))\n",
    "\n",
    "    imgs = transform_module(imgs).view(b,c,h,w)\n",
    "    return imgs"
   ]
  },
  {
   "cell_type": "code",
   "execution_count": null,
   "metadata": {
    "colab": {
     "base_uri": "https://localhost:8080/",
     "height": 839
    },
    "id": "LPB9wgPGLYuS",
    "outputId": "9c9f4103-4ab2-4f97-f6ee-3c12b71c9ed6"
   },
   "outputs": [
    {
     "name": "stdout",
     "output_type": "stream",
     "text": [
      "brightness:0.86, contrast:0.7822, saturation:0.4785, hue:0.333, test:524\n",
      "brightness:0.86, contrast:0.7822, saturation:0.4785, hue:0.333, test:524\n"
     ]
    },
    {
     "data": {
      "image/png": "[encoded data removed]",
      "text/plain": [
       "<Figure size 1080x1080 with 2 Axes>"
      ]
     },
     "metadata": {
      "needs_background": "light",
      "tags": []
     },
     "output_type": "display_data"
    },
    {
     "data": {
      "image/png": "[encoded data removed]",
      "text/plain": [
       "<Figure size 1080x1080 with 2 Axes>"
      ]
     },
     "metadata": {
      "needs_background": "light",
      "tags": []
     },
     "output_type": "display_data"
    }
   ],
   "source": [
    "# env = make_env(num_envs, num_levels=num_levels, env_name='coinrun')\n",
    "# nenv = env.num_envs # added\n",
    "# obs = np.zeros((nenv,) + env.observation_space.shape, dtype=env.observation_space.dtype.name)\n",
    "# obs[:] = env.reset()\n",
    "for game in games:\n",
    "    env = make_env(num_envs, num_levels=num_levels, env_name=game)\n",
    "    obs = env.reset()\n",
    "\n",
    "    sample = obs[0,:,:,:]\n",
    "\n",
    "    #  Plot the original observation\n",
    "    plt.figure(figsize=(15,15))\n",
    "    plt.subplot(1, 2, 1)\n",
    "    plt.axis('off')\n",
    "    plt.imshow(np.transpose(sample, (1, 2, 0)));\n",
    "\n",
    "    # Do the augmentation\n",
    "    obs = random_color_jitter(obs,p=1)\n",
    "\n",
    "    # Plot the augmented\n",
    "    plt.subplot(1, 2, 2)\n",
    "    plt.axis('off')\n",
    "    plt.imshow(np.transpose(sample, (1, 2, 0)));\n",
    "    # plt.show()\n",
    "    plt.savefig(f'{path}color_jitter{game}.png')"
   ]
  },
  {
   "cell_type": "markdown",
   "metadata": {
    "id": "Uic5XDfZfl5-"
   },
   "source": [
    "# Random cutout in every observation\n",
    "\n",
    "\n"
   ]
  },
  {
   "cell_type": "code",
   "execution_count": null,
   "metadata": {
    "id": "gQjn9hIP1kON"
   },
   "outputs": [],
   "source": [
    "# This is not an inplacement function like the others \n",
    "\n",
    "device = torch.device('cpu')\n",
    "def random_cutout(imgs, min_cut,max_cut):\n",
    "    \"\"\"\n",
    "        args:\n",
    "        imgs: shape (B,C,H,W)\n",
    "        out: output size (e.g. 84)\n",
    "    \"\"\"\n",
    "    n, c, h, w = imgs.shape\n",
    "    w1 = np.random.randint(min_cut, max_cut, n)\n",
    "    h1 = np.random.randint(min_cut, max_cut, n)\n",
    "    \n",
    "    cutouts = np.empty((n, c, h, w), dtype=imgs.dtype)\n",
    "    for i, (img, w11, h11) in enumerate(zip(imgs, w1, h1)):\n",
    "        cut_img = img.copy()\n",
    "        cut_img[:, h11:h11 + h11, w11:w11 + w11] = 0\n",
    "        #print(img[:, h11:h11 + h11, w11:w11 + w11].shape)\n",
    "        cutouts[i] = cut_img\n",
    "    return cutouts"
   ]
  },
  {
   "cell_type": "code",
   "execution_count": null,
   "metadata": {
    "colab": {
     "base_uri": "https://localhost:8080/",
     "height": 805
    },
    "id": "AqXEvk5s16oA",
    "outputId": "07721c25-f79f-4c3f-88e0-2f36480172ea"
   },
   "outputs": [
    {
     "data": {
      "image/png": "[encoded data removed]",
      "text/plain": [
       "<Figure size 1080x1080 with 2 Axes>"
      ]
     },
     "metadata": {
      "needs_background": "light",
      "tags": []
     },
     "output_type": "display_data"
    },
    {
     "data": {
      "image/png": "[encoded data removed]",
      "text/plain": [
       "<Figure size 1080x1080 with 2 Axes>"
      ]
     },
     "metadata": {
      "needs_background": "light",
      "tags": []
     },
     "output_type": "display_data"
    }
   ],
   "source": [
    "for game in games:\n",
    "    env = make_env(num_envs, num_levels=num_levels, env_name=game)\n",
    "    nenv = env.num_envs # added\n",
    "    obs = np.zeros((nenv,) + env.observation_space.shape, dtype=env.observation_space.dtype.name)\n",
    "    obs[:] = env.reset()\n",
    "    sample = obs[0,:,:,:]\n",
    "\n",
    "    #  Plot the original observation\n",
    "    plt.figure(figsize=(15,15))\n",
    "    plt.subplot(1, 2, 1)\n",
    "    plt.axis('off')\n",
    "    plt.imshow(np.transpose(sample, (1, 2, 0)));\n",
    "\n",
    "    # Do the augmentation\n",
    "    obs = random_cutout(obs,16,32)\n",
    "    sample = obs[0,:,:,:]\n",
    "\n",
    "    # Plot the augmented\n",
    "    plt.subplot(1, 2, 2)\n",
    "    plt.axis('off')\n",
    "    plt.imshow(np.transpose(sample, (1, 2, 0)));\n",
    "    # plt.show()\n",
    "    plt.savefig(f'{path}rand_cutout{game}.png')"
   ]
  },
  {
   "cell_type": "code",
   "execution_count": null,
   "metadata": {
    "id": "Ec7Hhf2W1rgg"
   },
   "outputs": [],
   "source": [
    "# Snippet of code to run numpy array as obs or as tensor\n",
    "\n",
    "# As the regular tensor setup\n",
    "# env = make_env(num_envs, num_levels=num_levels, env_name='coinrun')\n",
    "# obs = env.reset()\n",
    "\n",
    "# As numpy array\n",
    "# env = make_env(num_envs, num_levels=num_levels, env_name='coinrun')\n",
    "# nenv = env.num_envs # added\n",
    "# obs = np.zeros((nenv,) + env.observation_space.shape, dtype=env.observation_space.dtype.name)\n",
    "# obs[:] = env.reset()"
   ]
  },
  {
   "cell_type": "markdown",
   "metadata": {
    "id": "8pPOp6l-IalQ"
   },
   "source": [
    "# Mixreg"
   ]
  },
  {
   "cell_type": "code",
   "execution_count": null,
   "metadata": {
    "id": "Pe5jVwDLNO_8"
   },
   "outputs": [],
   "source": [
    "# Hyperparameters\n",
    "total_steps = 1e4 # 8e6\n",
    "num_envs = 32 # 32\n",
    "num_levels = 100 # 10\n",
    "num_steps = 256 # 256\n",
    "num_epochs = 3 # 3\n",
    "batch_size = 512 # 512\n",
    "eps = .2 # .2\n",
    "grad_eps = .5 # .5\n",
    "value_coef = .5 # .5\n",
    "entropy_coef = .01 # .01"
   ]
  },
  {
   "cell_type": "code",
   "execution_count": null,
   "metadata": {
    "colab": {
     "base_uri": "https://localhost:8080/",
     "height": 537
    },
    "id": "ql-BgGjbIZX8",
    "outputId": "62f0c735-99ca-40ea-bd87-1f86ca2916e9"
   },
   "outputs": [
    {
     "data": {
      "image/png": "[encoded data removed]",
      "text/plain": [
       "<Figure size 1080x1080 with 3 Axes>"
      ]
     },
     "metadata": {
      "needs_background": "light",
      "tags": []
     },
     "output_type": "display_data"
    },
    {
     "data": {
      "image/png": "[encoded data removed]",
      "text/plain": [
       "<Figure size 1080x1080 with 3 Axes>"
      ]
     },
     "metadata": {
      "needs_background": "light",
      "tags": []
     },
     "output_type": "display_data"
    }
   ],
   "source": [
    "num_levels = 10\n",
    "for game in games:\n",
    "  env_1 = make_env(1, num_levels=10, env_name=game)\n",
    "  num_actions = env.action_space.n\n",
    "  obs = env_1.reset()\n",
    "  sample = obs[0,:,:,:]\n",
    "\n",
    "  plt.figure(figsize=(15,15))\n",
    "  plt.subplot(1, 3, 1)\n",
    "  plt.axis('off')\n",
    "  plt.imshow(np.transpose(sample, (1, 2, 0)));\n",
    "\n",
    "  env_2 = make_env(1, start_level=20, num_levels=10, env_name=game)\n",
    "  num_actions = env.action_space.n\n",
    "  obs = env_2.reset()\n",
    "\n",
    "  for x in range(20):\n",
    "    action = random.randint(1, num_actions)\n",
    "    action = torch.tensor((action,), dtype=torch.int32)\n",
    "    # action = np.int32(action)\n",
    "    obs, reward, done, info = env_2.step(action)\n",
    "\n",
    "  plt.subplot(1, 3, 2)\n",
    "  plt.axis('off')\n",
    "  sample_2 = obs[0,:,:,:]\n",
    "  plt.imshow(np.transpose(sample_2, (1, 2, 0)));\n",
    "\n",
    "\n",
    "  plt.subplot(1, 3, 3)\n",
    "  plt.axis('off')\n",
    "  new_obs = sample*0.2 + sample_2*0.8\n",
    "  plt.imshow(np.transpose(new_obs, (1, 2, 0)));\n",
    "  plt.savefig(f'{path}mixreg{game}.png')"
   ]
  }
 ],
 "metadata": {
  "accelerator": "GPU",
  "colab": {
   "collapsed_sections": [],
   "name": "Aug-vizulisations.ipynb",
   "provenance": [],
   "toc_visible": true
  },
  "kernelspec": {
   "display_name": "Python 3",
   "language": "python",
   "name": "python3"
  },
  "language_info": {
   "codemirror_mode": {
    "name": "ipython",
    "version": 3
   },
   "file_extension": ".py",
   "mimetype": "text/x-python",
   "name": "python",
   "nbconvert_exporter": "python",
   "pygments_lexer": "ipython3",
   "version": "3.7.7"
  }
 },
 "nbformat": 4,
 "nbformat_minor": 1
}
